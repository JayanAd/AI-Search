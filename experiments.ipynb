{
  "cells": [
    {
      "cell_type": "code",
      "execution_count": null,
      "metadata": {
        "id": "oBraZ0ZrtdNe",
        "outputId": "ee742231-4792-402c-a70e-67d3c2406680"
      },
      "outputs": [
        {
          "name": "stdout",
          "output_type": "stream",
          "text": [
            "AI SEARCH\n"
          ]
        }
      ],
      "source": [
        "print(\"AI SEARCH\")"
      ]
    },
    {
      "cell_type": "code",
      "source": [
        "# visualization libraries\n",
        "!pip install seaborn altair bokeh plotly hvplot folium geopandas ee shap\n",
        "\n",
        "# NLP libraries\n",
        "\n",
        "!pip install torch torchvision torchtext torchnlp skorch captum spacy huggingface transformers sentence-transformers allennlp-all textblob nltk gensim polyglot pynlpl"
      ],
      "metadata": {
        "collapsed": true,
        "id": "eqBdFEjFuHeX"
      },
      "execution_count": null,
      "outputs": []
    },
    {
      "cell_type": "code",
      "source": [
        "text = [\n",
        "    \"Artificial Intelligence (AI) is transforming industries by automating processes, enhancing decision-making, and enabling innovative solutions.\",\n",
        "    \"The sun rises in the east and sets in the west, a fundamental concept in astronomy.\",\n",
        "    \"In 1956, John McCarthy coined the term 'Artificial Intelligence' at the Dartmouth Conference, marking the beginning of AI as a field of study.\",\n",
        "    \"Deep learning models, particularly transformers, have revolutionized natural language processing tasks such as translation, text generation, and sentiment analysis.\",\n",
        "    \"Once upon a time in a small village, there lived a young boy who dreamed of exploring the world. He spent his days reading about distant lands and imagining adventures beyond the mountains.\",\n",
        "    \"Data privacy and security are critical concerns in the digital age, where companies collect vast amounts of user information.\",\n",
        "    \"A cat sat on the windowsill, staring at the birds outside with intense curiosity.\",\n",
        "    \"Quantum computing promises to revolutionize problem-solving by leveraging quantum states, offering potential breakthroughs in cryptography and optimization.\",\n",
        "    \"Climate change is a pressing global issue that requires immediate action. Rising temperatures, melting glaciers, and extreme weather events highlight the urgency of adopting sustainable practices and reducing carbon emissions.\",\n",
        "    \"The quick brown fox jumps over the lazy dog.\",\n",
        "    \"In a groundbreaking discovery, scientists have found evidence of water on Mars, opening new possibilities for future space exploration and the search for extraterrestrial life.\",\n",
        "    \"Startups often face challenges such as securing funding, finding product-market fit, and scaling operations efficiently.\",\n",
        "    \"The mysterious island was shrouded in mist, hiding secrets that had been forgotten for centuries.\",\n",
        "    \"Machine learning is a subset of AI that allows computers to learn patterns from data without being explicitly programmed.\",\n",
        "    \"A sudden storm erupted, drenching the streets in heavy rain and causing people to run for shelter.\",\n",
        "\n",
        "    # Long Paragraphs\n",
        "    \"The concept of consciousness has intrigued philosophers, scientists, and thinkers for centuries. Despite advancements in neuroscience and psychology, the true nature of human awareness remains a mystery. Some theories suggest that consciousness emerges from complex neural interactions, while others argue that it is a fundamental aspect of reality. Theories like panpsychism propose that even the smallest particles of matter might possess some form of awareness, challenging the traditional materialistic view of the universe. As artificial intelligence and cognitive sciences advance, researchers continue to explore whether machines can ever achieve true consciousness, or if it remains an inherently biological phenomenon.\",\n",
        "\n",
        "    \"The history of space exploration is a testament to human ingenuity and curiosity. From the early days of rocketry in the mid-20th century to the present era of Mars rovers and deep-space telescopes, humanity has made significant strides in understanding the cosmos. The Apollo 11 mission in 1969 marked a historic moment as humans set foot on the Moon, proving that space travel was not just a dream. In the decades that followed, numerous robotic missions have explored distant planets, sending back invaluable data. With advancements in space technology, agencies like NASA, ESA, and private companies such as SpaceX are now working towards manned missions to Mars, pushing the boundaries of exploration further than ever before.\",\n",
        "\n",
        "    \"The Renaissance was a period of profound cultural, artistic, and intellectual growth that spanned roughly from the 14th to the 17th century. Originating in Italy, this era witnessed a revival of classical knowledge, a flourishing of the arts, and a shift towards humanist philosophy. Great minds such as Leonardo da Vinci and Michelangelo revolutionized painting and sculpture, while figures like Galileo and Copernicus laid the foundation for modern science. The printing press, invented by Johannes Gutenberg, played a crucial role in spreading knowledge, enabling literacy to flourish. The Renaissance not only transformed Europe but also set the stage for future advancements in science, politics, and the arts, shaping the world we know today.\"\n",
        "]\n"
      ],
      "metadata": {
        "id": "VEuipsdJuw0U"
      },
      "execution_count": 3,
      "outputs": []
    },
    {
      "cell_type": "code",
      "source": [
        "# from huggingface_hub import login\n",
        "# from google.colab import userdata\n",
        "# HF_Token = userdata.get('HF_Token')\n",
        "# login(token=HF_Token)"
      ],
      "metadata": {
        "id": "pAlWn8Tq2Bkd"
      },
      "execution_count": 5,
      "outputs": []
    },
    {
      "cell_type": "code",
      "source": [
        "from sentence_transformers import SentenceTransformer\n",
        "\n",
        "MODEL = \"msmarco-distilbert-base-v4\"\n",
        "embedder = SentenceTransformer(MODEL)"
      ],
      "metadata": {
        "collapsed": true,
        "id": "vUxIMYlZxy8_"
      },
      "execution_count": null,
      "outputs": []
    },
    {
      "cell_type": "code",
      "source": [
        "embeddings = embedder.encode(text,convert_to_tensor=True)\n",
        "embeddings.shape"
      ],
      "metadata": {
        "colab": {
          "base_uri": "https://localhost:8080/"
        },
        "id": "epCyT2V91chY",
        "outputId": "8cf59fa3-d279-4af1-f861-f54f903caa14"
      },
      "execution_count": 9,
      "outputs": [
        {
          "output_type": "execute_result",
          "data": {
            "text/plain": [
              "torch.Size([18, 768])"
            ]
          },
          "metadata": {},
          "execution_count": 9
        }
      ]
    },
    {
      "cell_type": "code",
      "source": [
        "query_text = \"making computer think like human\"\n",
        "query = embedder.encode(query_text, convert_to_tensor=True)"
      ],
      "metadata": {
        "id": "QLsAwXyA3jte"
      },
      "execution_count": 14,
      "outputs": []
    },
    {
      "cell_type": "code",
      "source": [
        "from sentence_transformers import util\n",
        "search_results = util.semantic_search(query,embeddings,top_k=3)\n",
        "search_results"
      ],
      "metadata": {
        "colab": {
          "base_uri": "https://localhost:8080/"
        },
        "id": "gd9QGFtT4SMl",
        "outputId": "58465edd-d1ab-4e11-ae84-93cbbe8507d1"
      },
      "execution_count": 15,
      "outputs": [
        {
          "output_type": "execute_result",
          "data": {
            "text/plain": [
              "[[{'corpus_id': 0, 'score': 0.36625856161117554},\n",
              "  {'corpus_id': 13, 'score': 0.3088148832321167},\n",
              "  {'corpus_id': 2, 'score': 0.2613815665245056}]]"
            ]
          },
          "metadata": {},
          "execution_count": 15
        }
      ]
    },
    {
      "cell_type": "code",
      "source": [
        "for index, result in enumerate(search_results[0]):\n",
        "  print(\"_\"*90)\n",
        "  print(f\"Search Rank: {index}, Relevance Score: {result['score']}\")\n",
        "  print(text[result[\"corpus_id\"]])"
      ],
      "metadata": {
        "colab": {
          "base_uri": "https://localhost:8080/"
        },
        "id": "b25AhJsT4dr7",
        "outputId": "4a0dc625-6f58-492d-9a6d-314031838e4b"
      },
      "execution_count": 16,
      "outputs": [
        {
          "output_type": "stream",
          "name": "stdout",
          "text": [
            "__________________________________________________________________________________________\n",
            "Search Rank: 0, Relevance Score: 0.36625856161117554\n",
            "Artificial Intelligence (AI) is transforming industries by automating processes, enhancing decision-making, and enabling innovative solutions.\n",
            "__________________________________________________________________________________________\n",
            "Search Rank: 1, Relevance Score: 0.3088148832321167\n",
            "Machine learning is a subset of AI that allows computers to learn patterns from data without being explicitly programmed.\n",
            "__________________________________________________________________________________________\n",
            "Search Rank: 2, Relevance Score: 0.2613815665245056\n",
            "In 1956, John McCarthy coined the term 'Artificial Intelligence' at the Dartmouth Conference, marking the beginning of AI as a field of study.\n"
          ]
        }
      ]
    },
    {
      "cell_type": "markdown",
      "source": [
        "Visual Search"
      ],
      "metadata": {
        "id": "GYTnZasE5fvC"
      }
    },
    {
      "cell_type": "code",
      "source": [
        "from PIL import Image\n",
        "\n",
        "CLIP_MODEL = \"clip-ViT-B-32\"\n",
        "embedder = SentenceTransformer(CLIP_MODEL)\n",
        "\n",
        "short_sentences = [\n",
        "    \"A similing dog\",\"Car on highway\",\"Elephant in the field\",\"Attention is all you need\",\"world cup winner\",\"Golden retrievers are little children\"\n",
        "]\n",
        "\n",
        "embeddings = embedder.encode(short_sentences,convert_to_tensor=True)\n",
        "embeddings.shape"
      ],
      "metadata": {
        "id": "Le23Rce05gxv",
        "outputId": "31071b6f-c0e1-49b5-b88c-d1b9b88199f4",
        "colab": {
          "base_uri": "https://localhost:8080/"
        }
      },
      "execution_count": 20,
      "outputs": [
        {
          "output_type": "execute_result",
          "data": {
            "text/plain": [
              "torch.Size([6, 512])"
            ]
          },
          "metadata": {},
          "execution_count": 20
        }
      ]
    },
    {
      "cell_type": "code",
      "source": [
        "query = embedder.encode(Image.open(\"/content/dog.jpg\"))"
      ],
      "metadata": {
        "id": "rkrqCWlD8hJi"
      },
      "execution_count": 18,
      "outputs": []
    },
    {
      "cell_type": "code",
      "source": [
        "from sentence_transformers import util\n",
        "\n",
        "search_results = util.semantic_search(query,embeddings,top_k=3)\n",
        "search_results"
      ],
      "metadata": {
        "id": "FEAlOD2u9Bdg",
        "outputId": "96be80a9-34bc-46a0-ebaa-e3b3e5fe01b3",
        "colab": {
          "base_uri": "https://localhost:8080/"
        }
      },
      "execution_count": 21,
      "outputs": [
        {
          "output_type": "execute_result",
          "data": {
            "text/plain": [
              "[[{'corpus_id': 5, 'score': 0.2793245315551758},\n",
              "  {'corpus_id': 0, 'score': 0.25686395168304443},\n",
              "  {'corpus_id': 3, 'score': 0.2093714475631714}]]"
            ]
          },
          "metadata": {},
          "execution_count": 21
        }
      ]
    },
    {
      "cell_type": "code",
      "source": [
        "for index, result in enumerate(search_results[0]):\n",
        "  print(\"_\"*90)\n",
        "  print(f\"Search Rank: {index}, Relevance Score: {result['score']}\")\n",
        "  print(short_sentences[result[\"corpus_id\"]])"
      ],
      "metadata": {
        "id": "pWFsKK2k9cdP",
        "outputId": "874eac89-4494-40cd-937e-a00e637b3fca",
        "colab": {
          "base_uri": "https://localhost:8080/"
        }
      },
      "execution_count": 22,
      "outputs": [
        {
          "output_type": "stream",
          "name": "stdout",
          "text": [
            "__________________________________________________________________________________________\n",
            "Search Rank: 0, Relevance Score: 0.2793245315551758\n",
            "Golden retrievers are little children\n",
            "__________________________________________________________________________________________\n",
            "Search Rank: 1, Relevance Score: 0.25686395168304443\n",
            "A similing dog\n",
            "__________________________________________________________________________________________\n",
            "Search Rank: 2, Relevance Score: 0.2093714475631714\n",
            "Attention is all you need\n"
          ]
        }
      ]
    },
    {
      "cell_type": "markdown",
      "source": [
        "Text as query and search images"
      ],
      "metadata": {
        "id": "RXsLnMcY9r_h"
      }
    },
    {
      "cell_type": "code",
      "source": [
        "from PIL import Image\n",
        "import glob\n",
        "import torch\n",
        "import pickle\n",
        "import zipfile\n",
        "from IPython.display import display\n",
        "from IPython.display import Image as IPImage\n",
        "import os\n",
        "from tqdm.autonotebook import tqdm\n"
      ],
      "metadata": {
        "id": "oREUn1qQ9ezE"
      },
      "execution_count": 23,
      "outputs": []
    },
    {
      "cell_type": "code",
      "source": [
        "img_folder = \"/content/photos/\"\n",
        "\n",
        "if not os.path.exists(img_folder) or len(os.listdir(img_folder)) == 0 :\n",
        "  os.makedirs(img_folder,exist_ok=True)\n",
        "\n",
        "  photo_filename = \"unsplash-25k-photos.zip\"\n",
        "\n",
        "  if not os.path.exists(photo_filename):\n",
        "    util.http_get(\"http://sbert.net/datasets/\"+ photo_filename,photo_filename)\n",
        "\n",
        "  with zipfile.ZipFile(photo_filename,\"r\") as zf:\n",
        "    for member in tqdm(zf.infolist(),desc=\"Extracting\"):\n",
        "      zf.extract(member,img_folder)"
      ],
      "metadata": {
        "id": "EY7DChBO-KYg",
        "outputId": "fc2165c8-b3e2-4191-920a-a88a35fee761",
        "colab": {
          "base_uri": "https://localhost:8080/",
          "height": 49,
          "referenced_widgets": [
            "231cb0bc30d84ca5b3e983caf76fe18e",
            "053b2762c32845bfa4c6ca5f5d3c975a",
            "e008d37ae0e5407989d306372f69eb3b",
            "28ec8d2d87104a6ab1fb3eb381b0431a",
            "e2185175308445449e749b6c650826c0",
            "dafb2de7eba44babb06c40c186c7a7e5",
            "8b7e644162ac48d5a37dd5b444c8fd82",
            "d9e673efbc2d4b809e6c33bc9bd7ada8",
            "975cd3ec0db2475ab28d7d23369abefa",
            "6943fcb374204fbd84aef05c732271ef",
            "83d1983ebbdf4bbea34a5e6677b460ba"
          ]
        }
      },
      "execution_count": 27,
      "outputs": [
        {
          "output_type": "display_data",
          "data": {
            "text/plain": [
              "Extracting:   0%|          | 0/24996 [00:00<?, ?it/s]"
            ],
            "application/vnd.jupyter.widget-view+json": {
              "version_major": 2,
              "version_minor": 0,
              "model_id": "231cb0bc30d84ca5b3e983caf76fe18e"
            }
          },
          "metadata": {}
        }
      ]
    },
    {
      "cell_type": "code",
      "source": [
        "model = SentenceTransformer(\"clip-ViT-B-32\")\n",
        "\n",
        "img_names = list(glob.glob(\"/content/photos/*.jpg\"))\n",
        "print(\"Images: \",len(img_names))\n",
        "\n",
        "img_emb = model.encode([\n",
        "    Image.open(filepath) for filepath in img_names\n",
        "],\n",
        "   batch_size=128,convert_to_tensor=True,show_progess_bar=True )\n"
      ],
      "metadata": {
        "id": "DI_SYlbmAW-l",
        "outputId": "e8fb3cf9-12bd-42c4-a626-57875594d4d8",
        "colab": {
          "base_uri": "https://localhost:8080/"
        }
      },
      "execution_count": null,
      "outputs": [
        {
          "output_type": "stream",
          "name": "stdout",
          "text": [
            "Images:  24996\n"
          ]
        }
      ]
    },
    {
      "cell_type": "code",
      "source": [
        "def search(query,k=3):\n",
        "  query_emb = model.encode([query],convert_to_tensor=True,show_progess_bar=False)\n",
        "  hits = util.semantic_search(query_emb,img_emb,top_k=k)[0]\n",
        "\n",
        "  print(\"Query: \")\n",
        "  display(query)\n",
        "  for hit in hits:\n",
        "    print(img_names[hit[\"corpus_id\"]])\n",
        "    display(IPImage(os.path.join(img_folder,img_names[hit[\"corpus_id\"]]),width=200))\n",
        "\n"
      ],
      "metadata": {
        "id": "MktR_fj_Gdak"
      },
      "execution_count": null,
      "outputs": []
    },
    {
      "cell_type": "code",
      "source": [
        "search(\"love a dog \")"
      ],
      "metadata": {
        "id": "cATyDOpVHPxj"
      },
      "execution_count": null,
      "outputs": []
    }
  ],
  "metadata": {
    "kernelspec": {
      "display_name": "Python 3",
      "language": "python",
      "name": "python3"
    },
    "language_info": {
      "codemirror_mode": {
        "name": "ipython",
        "version": 3
      },
      "file_extension": ".py",
      "mimetype": "text/x-python",
      "name": "python",
      "nbconvert_exporter": "python",
      "pygments_lexer": "ipython3",
      "version": "3.10.0"
    },
    "colab": {
      "provenance": []
    },
    "widgets": {
      "application/vnd.jupyter.widget-state+json": {
        "231cb0bc30d84ca5b3e983caf76fe18e": {
          "model_module": "@jupyter-widgets/controls",
          "model_name": "HBoxModel",
          "model_module_version": "1.5.0",
          "state": {
            "_dom_classes": [],
            "_model_module": "@jupyter-widgets/controls",
            "_model_module_version": "1.5.0",
            "_model_name": "HBoxModel",
            "_view_count": null,
            "_view_module": "@jupyter-widgets/controls",
            "_view_module_version": "1.5.0",
            "_view_name": "HBoxView",
            "box_style": "",
            "children": [
              "IPY_MODEL_053b2762c32845bfa4c6ca5f5d3c975a",
              "IPY_MODEL_e008d37ae0e5407989d306372f69eb3b",
              "IPY_MODEL_28ec8d2d87104a6ab1fb3eb381b0431a"
            ],
            "layout": "IPY_MODEL_e2185175308445449e749b6c650826c0"
          }
        },
        "053b2762c32845bfa4c6ca5f5d3c975a": {
          "model_module": "@jupyter-widgets/controls",
          "model_name": "HTMLModel",
          "model_module_version": "1.5.0",
          "state": {
            "_dom_classes": [],
            "_model_module": "@jupyter-widgets/controls",
            "_model_module_version": "1.5.0",
            "_model_name": "HTMLModel",
            "_view_count": null,
            "_view_module": "@jupyter-widgets/controls",
            "_view_module_version": "1.5.0",
            "_view_name": "HTMLView",
            "description": "",
            "description_tooltip": null,
            "layout": "IPY_MODEL_dafb2de7eba44babb06c40c186c7a7e5",
            "placeholder": "​",
            "style": "IPY_MODEL_8b7e644162ac48d5a37dd5b444c8fd82",
            "value": "Extracting: 100%"
          }
        },
        "e008d37ae0e5407989d306372f69eb3b": {
          "model_module": "@jupyter-widgets/controls",
          "model_name": "FloatProgressModel",
          "model_module_version": "1.5.0",
          "state": {
            "_dom_classes": [],
            "_model_module": "@jupyter-widgets/controls",
            "_model_module_version": "1.5.0",
            "_model_name": "FloatProgressModel",
            "_view_count": null,
            "_view_module": "@jupyter-widgets/controls",
            "_view_module_version": "1.5.0",
            "_view_name": "ProgressView",
            "bar_style": "success",
            "description": "",
            "description_tooltip": null,
            "layout": "IPY_MODEL_d9e673efbc2d4b809e6c33bc9bd7ada8",
            "max": 24996,
            "min": 0,
            "orientation": "horizontal",
            "style": "IPY_MODEL_975cd3ec0db2475ab28d7d23369abefa",
            "value": 24996
          }
        },
        "28ec8d2d87104a6ab1fb3eb381b0431a": {
          "model_module": "@jupyter-widgets/controls",
          "model_name": "HTMLModel",
          "model_module_version": "1.5.0",
          "state": {
            "_dom_classes": [],
            "_model_module": "@jupyter-widgets/controls",
            "_model_module_version": "1.5.0",
            "_model_name": "HTMLModel",
            "_view_count": null,
            "_view_module": "@jupyter-widgets/controls",
            "_view_module_version": "1.5.0",
            "_view_name": "HTMLView",
            "description": "",
            "description_tooltip": null,
            "layout": "IPY_MODEL_6943fcb374204fbd84aef05c732271ef",
            "placeholder": "​",
            "style": "IPY_MODEL_83d1983ebbdf4bbea34a5e6677b460ba",
            "value": " 24996/24996 [00:27&lt;00:00, 1354.87it/s]"
          }
        },
        "e2185175308445449e749b6c650826c0": {
          "model_module": "@jupyter-widgets/base",
          "model_name": "LayoutModel",
          "model_module_version": "1.2.0",
          "state": {
            "_model_module": "@jupyter-widgets/base",
            "_model_module_version": "1.2.0",
            "_model_name": "LayoutModel",
            "_view_count": null,
            "_view_module": "@jupyter-widgets/base",
            "_view_module_version": "1.2.0",
            "_view_name": "LayoutView",
            "align_content": null,
            "align_items": null,
            "align_self": null,
            "border": null,
            "bottom": null,
            "display": null,
            "flex": null,
            "flex_flow": null,
            "grid_area": null,
            "grid_auto_columns": null,
            "grid_auto_flow": null,
            "grid_auto_rows": null,
            "grid_column": null,
            "grid_gap": null,
            "grid_row": null,
            "grid_template_areas": null,
            "grid_template_columns": null,
            "grid_template_rows": null,
            "height": null,
            "justify_content": null,
            "justify_items": null,
            "left": null,
            "margin": null,
            "max_height": null,
            "max_width": null,
            "min_height": null,
            "min_width": null,
            "object_fit": null,
            "object_position": null,
            "order": null,
            "overflow": null,
            "overflow_x": null,
            "overflow_y": null,
            "padding": null,
            "right": null,
            "top": null,
            "visibility": null,
            "width": null
          }
        },
        "dafb2de7eba44babb06c40c186c7a7e5": {
          "model_module": "@jupyter-widgets/base",
          "model_name": "LayoutModel",
          "model_module_version": "1.2.0",
          "state": {
            "_model_module": "@jupyter-widgets/base",
            "_model_module_version": "1.2.0",
            "_model_name": "LayoutModel",
            "_view_count": null,
            "_view_module": "@jupyter-widgets/base",
            "_view_module_version": "1.2.0",
            "_view_name": "LayoutView",
            "align_content": null,
            "align_items": null,
            "align_self": null,
            "border": null,
            "bottom": null,
            "display": null,
            "flex": null,
            "flex_flow": null,
            "grid_area": null,
            "grid_auto_columns": null,
            "grid_auto_flow": null,
            "grid_auto_rows": null,
            "grid_column": null,
            "grid_gap": null,
            "grid_row": null,
            "grid_template_areas": null,
            "grid_template_columns": null,
            "grid_template_rows": null,
            "height": null,
            "justify_content": null,
            "justify_items": null,
            "left": null,
            "margin": null,
            "max_height": null,
            "max_width": null,
            "min_height": null,
            "min_width": null,
            "object_fit": null,
            "object_position": null,
            "order": null,
            "overflow": null,
            "overflow_x": null,
            "overflow_y": null,
            "padding": null,
            "right": null,
            "top": null,
            "visibility": null,
            "width": null
          }
        },
        "8b7e644162ac48d5a37dd5b444c8fd82": {
          "model_module": "@jupyter-widgets/controls",
          "model_name": "DescriptionStyleModel",
          "model_module_version": "1.5.0",
          "state": {
            "_model_module": "@jupyter-widgets/controls",
            "_model_module_version": "1.5.0",
            "_model_name": "DescriptionStyleModel",
            "_view_count": null,
            "_view_module": "@jupyter-widgets/base",
            "_view_module_version": "1.2.0",
            "_view_name": "StyleView",
            "description_width": ""
          }
        },
        "d9e673efbc2d4b809e6c33bc9bd7ada8": {
          "model_module": "@jupyter-widgets/base",
          "model_name": "LayoutModel",
          "model_module_version": "1.2.0",
          "state": {
            "_model_module": "@jupyter-widgets/base",
            "_model_module_version": "1.2.0",
            "_model_name": "LayoutModel",
            "_view_count": null,
            "_view_module": "@jupyter-widgets/base",
            "_view_module_version": "1.2.0",
            "_view_name": "LayoutView",
            "align_content": null,
            "align_items": null,
            "align_self": null,
            "border": null,
            "bottom": null,
            "display": null,
            "flex": null,
            "flex_flow": null,
            "grid_area": null,
            "grid_auto_columns": null,
            "grid_auto_flow": null,
            "grid_auto_rows": null,
            "grid_column": null,
            "grid_gap": null,
            "grid_row": null,
            "grid_template_areas": null,
            "grid_template_columns": null,
            "grid_template_rows": null,
            "height": null,
            "justify_content": null,
            "justify_items": null,
            "left": null,
            "margin": null,
            "max_height": null,
            "max_width": null,
            "min_height": null,
            "min_width": null,
            "object_fit": null,
            "object_position": null,
            "order": null,
            "overflow": null,
            "overflow_x": null,
            "overflow_y": null,
            "padding": null,
            "right": null,
            "top": null,
            "visibility": null,
            "width": null
          }
        },
        "975cd3ec0db2475ab28d7d23369abefa": {
          "model_module": "@jupyter-widgets/controls",
          "model_name": "ProgressStyleModel",
          "model_module_version": "1.5.0",
          "state": {
            "_model_module": "@jupyter-widgets/controls",
            "_model_module_version": "1.5.0",
            "_model_name": "ProgressStyleModel",
            "_view_count": null,
            "_view_module": "@jupyter-widgets/base",
            "_view_module_version": "1.2.0",
            "_view_name": "StyleView",
            "bar_color": null,
            "description_width": ""
          }
        },
        "6943fcb374204fbd84aef05c732271ef": {
          "model_module": "@jupyter-widgets/base",
          "model_name": "LayoutModel",
          "model_module_version": "1.2.0",
          "state": {
            "_model_module": "@jupyter-widgets/base",
            "_model_module_version": "1.2.0",
            "_model_name": "LayoutModel",
            "_view_count": null,
            "_view_module": "@jupyter-widgets/base",
            "_view_module_version": "1.2.0",
            "_view_name": "LayoutView",
            "align_content": null,
            "align_items": null,
            "align_self": null,
            "border": null,
            "bottom": null,
            "display": null,
            "flex": null,
            "flex_flow": null,
            "grid_area": null,
            "grid_auto_columns": null,
            "grid_auto_flow": null,
            "grid_auto_rows": null,
            "grid_column": null,
            "grid_gap": null,
            "grid_row": null,
            "grid_template_areas": null,
            "grid_template_columns": null,
            "grid_template_rows": null,
            "height": null,
            "justify_content": null,
            "justify_items": null,
            "left": null,
            "margin": null,
            "max_height": null,
            "max_width": null,
            "min_height": null,
            "min_width": null,
            "object_fit": null,
            "object_position": null,
            "order": null,
            "overflow": null,
            "overflow_x": null,
            "overflow_y": null,
            "padding": null,
            "right": null,
            "top": null,
            "visibility": null,
            "width": null
          }
        },
        "83d1983ebbdf4bbea34a5e6677b460ba": {
          "model_module": "@jupyter-widgets/controls",
          "model_name": "DescriptionStyleModel",
          "model_module_version": "1.5.0",
          "state": {
            "_model_module": "@jupyter-widgets/controls",
            "_model_module_version": "1.5.0",
            "_model_name": "DescriptionStyleModel",
            "_view_count": null,
            "_view_module": "@jupyter-widgets/base",
            "_view_module_version": "1.2.0",
            "_view_name": "StyleView",
            "description_width": ""
          }
        }
      }
    }
  },
  "nbformat": 4,
  "nbformat_minor": 0
}